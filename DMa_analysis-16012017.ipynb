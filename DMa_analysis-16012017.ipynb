{
 "cells": [
  {
   "cell_type": "code",
   "execution_count": 22,
   "metadata": {
    "collapsed": false,
    "scrolled": false
   },
   "outputs": [],
   "source": [
    "import os\n",
    "import os.path\n",
    "import numpy as np\n",
    "from scipy.signal import butter, lfilter, freqz\n",
    "from matplotlib import pyplot as plt\n",
    "import seaborn\n",
    "import csv\n",
    "import re\n",
    "import scipy\n",
    "import yaml\n",
    "import re\n",
    "\n",
    "%matplotlib inline"
   ]
  },
  {
   "cell_type": "code",
   "execution_count": 23,
   "metadata": {
    "collapsed": true
   },
   "outputs": [],
   "source": [
    "## Making Arrays of filenames"
   ]
  },
  {
   "cell_type": "code",
   "execution_count": 24,
   "metadata": {
    "collapsed": false
   },
   "outputs": [],
   "source": [
    "os.chdir('/Users/Nush/Documents/Decision making task/AF_DMa') #change working directory"
   ]
  },
  {
   "cell_type": "code",
   "execution_count": 25,
   "metadata": {
    "collapsed": false
   },
   "outputs": [
    {
     "name": "stdout",
     "output_type": "stream",
     "text": [
      "['/Users/Nush/Documents/Decision making task/AF_DMa/AF_DM_DAY5_09112016/AMBIGUITY TASK 05112016_MOUSEBOTH.MPC', '/Users/Nush/Documents/Decision making task/AF_DMa/AF_DM_DAY5_09112016/AMBIGUITY TASK 05112016_MOUSENONE.MPC', '/Users/Nush/Documents/Decision making task/AF_DMa/AF_DM_DAY5_09112016/MOUSEBOTH_DAY5', '/Users/Nush/Documents/Decision making task/AF_DMa/AF_DM_DAY5_09112016/MOUSEBOTH_DAY5 copy.txt', '/Users/Nush/Documents/Decision making task/AF_DMa/AF_DM_DAY5_09112016/MouseBOTH_DAY5.tdms', '/Users/Nush/Documents/Decision making task/AF_DMa/AF_DM_DAY5_09112016/MouseBOTH_DAY5.tdms_index', '/Users/Nush/Documents/Decision making task/AF_DMa/AF_DM_DAY5_09112016/MOUSENONE_DAY5', '/Users/Nush/Documents/Decision making task/AF_DMa/AF_DM_DAY5_09112016/MouseNONE_DAY5.tdms', '/Users/Nush/Documents/Decision making task/AF_DMa/AF_DM_DAY5_09112016/MouseNONE_DAY5.tdms_index', '/Users/Nush/Documents/Decision making task/AF_DMa/AF_DM_DAY5_09112016/mousenoneday5.jpg', '/Users/Nush/Documents/Decision making task/AF_DMa/AF_DMa_DAY1_05112016/AMBIGUITY TASK 05112016_MOUSEBOTH.MPC', '/Users/Nush/Documents/Decision making task/AF_DMa/AF_DMa_DAY1_05112016/AMBIGUITY TASK 05112016_MOUSENONE.MPC', '/Users/Nush/Documents/Decision making task/AF_DMa/AF_DMa_DAY1_05112016/MOUSEBOTH_DAY1', '/Users/Nush/Documents/Decision making task/AF_DMa/AF_DMa_DAY1_05112016/Mouseboth_DAY1.tdms', '/Users/Nush/Documents/Decision making task/AF_DMa/AF_DMa_DAY1_05112016/Mouseboth_DAY1.tdms_index', '/Users/Nush/Documents/Decision making task/AF_DMa/AF_DMa_DAY1_05112016/MOUSEBOTH_DAY1B', '/Users/Nush/Documents/Decision making task/AF_DMa/AF_DMa_DAY1_05112016/Mouseboth_DAY1B.tdms', '/Users/Nush/Documents/Decision making task/AF_DMa/AF_DMa_DAY1_05112016/Mouseboth_DAY1B.tdms_index', '/Users/Nush/Documents/Decision making task/AF_DMa/AF_DMa_DAY1_05112016/MOUSEBOTH_DAY1C', '/Users/Nush/Documents/Decision making task/AF_DMa/AF_DMa_DAY1_05112016/Mouseboth_DAY1C.tdms', '/Users/Nush/Documents/Decision making task/AF_DMa/AF_DMa_DAY1_05112016/Mouseboth_DAY1C.tdms_index', '/Users/Nush/Documents/Decision making task/AF_DMa/AF_DMa_DAY1_05112016/MOUSENONE_DAY1', '/Users/Nush/Documents/Decision making task/AF_DMa/AF_DMa_DAY1_05112016/MouseNONE_DAY2.tdms', '/Users/Nush/Documents/Decision making task/AF_DMa/AF_DMa_DAY1_05112016/MouseNONE_DAY2.tdms_index', '/Users/Nush/Documents/Decision making task/AF_DMa/AF_DMa_DAY1_05112016/MOUSENONEDAY1_05112016.jpg', '/Users/Nush/Documents/Decision making task/AF_DMa/AF_DMa_DAY2_06112016/MOUSEBOTH_DAY2', '/Users/Nush/Documents/Decision making task/AF_DMa/AF_DMa_DAY2_06112016/Mouseboth_DAY2.tdms', '/Users/Nush/Documents/Decision making task/AF_DMa/AF_DMa_DAY2_06112016/Mouseboth_DAY2.tdms_index', '/Users/Nush/Documents/Decision making task/AF_DMa/AF_DMa_DAY2_06112016/MOUSENONE_DAY2', '/Users/Nush/Documents/Decision making task/AF_DMa/AF_DMa_DAY2_06112016/MouseNONE_DAY2.tdms', '/Users/Nush/Documents/Decision making task/AF_DMa/AF_DMa_DAY2_06112016/MouseNONE_DAY2.tdms_index', '/Users/Nush/Documents/Decision making task/AF_DMa/AF_DMa_DAY3_07112016/MOUSEBOTH_DAY3', '/Users/Nush/Documents/Decision making task/AF_DMa/AF_DMa_DAY3_07112016/Mouseboth_DAY3.tdms', '/Users/Nush/Documents/Decision making task/AF_DMa/AF_DMa_DAY3_07112016/Mouseboth_DAY3.tdms_index', '/Users/Nush/Documents/Decision making task/AF_DMa/AF_DMa_DAY3_07112016/MOUSENONE_DAY3', '/Users/Nush/Documents/Decision making task/AF_DMa/AF_DMa_DAY3_07112016/MouseNone_DAY3.tdms', '/Users/Nush/Documents/Decision making task/AF_DMa/AF_DMa_DAY3_07112016/MouseNone_DAY3.tdms_index', '/Users/Nush/Documents/Decision making task/AF_DMa/AF_DMa_DAY4_08112016/MOUSEBOTH_DAY4', '/Users/Nush/Documents/Decision making task/AF_DMa/AF_DMa_DAY4_08112016/Mouseboth_DAY4.tdms', '/Users/Nush/Documents/Decision making task/AF_DMa/AF_DMa_DAY4_08112016/Mouseboth_DAY4.tdms_index', '/Users/Nush/Documents/Decision making task/AF_DMa/AF_DMa_DAY4_08112016/MOUSEBOTHDAY4_08112016.jpg', '/Users/Nush/Documents/Decision making task/AF_DMa/AF_DMa_DAY4_08112016/MOUSEnone_DAY4', '/Users/Nush/Documents/Decision making task/AF_DMa/AF_DMa_DAY4_08112016/Mousenone_DAY4.tdms', '/Users/Nush/Documents/Decision making task/AF_DMa/AF_DMa_DAY4_08112016/Mousenone_DAY4.tdms_index', '/Users/Nush/Documents/Decision making task/AF_DMa/AF_DMa_DAY4_08112016/MOUSENONEDAY4_08112016.jpg']\n"
     ]
    }
   ],
   "source": [
    "all_files = [] #creates a directory to store all files in\n",
    "for (path, dirnames, filenames) in os.walk('/Users/Nush/Documents/Decision making task/AF_DMa'):\n",
    "    if '.DS_Store' in dirnames:\n",
    "        dirnames.remove('.DS_Store') #this is an apple storage folder that should not be read\n",
    "    all_files.extend(os.path.join(path, name) for name in filenames if not name[0] == '.')#ignore . and .. folders\n",
    "print (all_files)\n"
   ]
  },
  {
   "cell_type": "code",
   "execution_count": 26,
   "metadata": {
    "collapsed": false
   },
   "outputs": [],
   "source": [
    "#this function \"parse_file\" reads medpc files which are files that have hidden characters and blank lines\n",
    "def parse_file(filename):#defines function The heading contains def, the name of the function, parentheses, and finally a colon.\n",
    "    \"\"\"Parse a results file into a dictionary structure.\n",
    "    \n",
    "    Lines are either:\n",
    "    - blank -> ignore these\n",
    "    - Field name: Value -> put in the dict as a name:value entry\n",
    "    - whitespace index: value value value -> continuation line for array data\n",
    "    \"\"\"\n",
    "    results = {}#creates a dictionary\n",
    "    with open(filename) as f:# create a file using open, f is the file data object we're creating for reading\n",
    "        multi_line_name = None#None is frequently used to represent the absence of a value, as when default arguments are not passed to a function. \n",
    "        for line in f:\n",
    "            if not line.strip():#if the line is blank then continue\n",
    "                continue # Ignore this line\n",
    "            if line[0] in ' \\t':#escape key places a tab\n",
    "                # Continuation line\n",
    "                line = line.strip().split(':')[1] # Strip off the '    index:' part\n",
    "                values = line.split() # Get the individual values as a list\n",
    "                values = map(int, map(float, values)) # Convert all to integers\n",
    "                results[multi_line_name].extend(values)\n",
    "            else:#for single value entries in medpc file\n",
    "                name, value = line.split(':', 1)\n",
    "                name = name.strip()\n",
    "                value = value.strip()\n",
    "                if value:\n",
    "                    # Simple one-line entry\n",
    "                    results[name] = value\n",
    "                else:#for text eg. subject\n",
    "                    # Start of multi-line array\n",
    "                    multi_line_name = name\n",
    "                    results[name] = []\n",
    "    return results\n"
   ]
  },
  {
   "cell_type": "code",
   "execution_count": 27,
   "metadata": {
    "collapsed": false
   },
   "outputs": [
    {
     "ename": "KeyboardInterrupt",
     "evalue": "",
     "output_type": "error",
     "traceback": [
      "\u001b[0;31m---------------------------------------------------------------------------\u001b[0m",
      "\u001b[0;31mKeyboardInterrupt\u001b[0m                         Traceback (most recent call last)",
      "\u001b[0;32m<ipython-input-27-563120b88f32>\u001b[0m in \u001b[0;36m<module>\u001b[0;34m()\u001b[0m\n\u001b[1;32m      4\u001b[0m \u001b[0;32mfrom\u001b[0m \u001b[0mmatplotlib\u001b[0m \u001b[0;32mimport\u001b[0m \u001b[0mpyplot\u001b[0m \u001b[0;32mas\u001b[0m \u001b[0mplt\u001b[0m\u001b[0;34m\u001b[0m\u001b[0m\n\u001b[1;32m      5\u001b[0m \u001b[0;31m#from nptdms import tdmsinfo\u001b[0m\u001b[0;34m\u001b[0m\u001b[0;34m\u001b[0m\u001b[0m\n\u001b[0;32m----> 6\u001b[0;31m \u001b[0mtdms_file\u001b[0m \u001b[0;34m=\u001b[0m \u001b[0mTdmsFile\u001b[0m\u001b[0;34m(\u001b[0m\u001b[0;34m\"/Users/Nush/Documents/Decision making task/AF_DMc/Photometry/AF039-37_DAY6bb_photometry_AF_DMc_21122016.csv\"\u001b[0m\u001b[0;34m)\u001b[0m\u001b[0;34m\u001b[0m\u001b[0m\n\u001b[0m\u001b[1;32m      7\u001b[0m \u001b[0mchannel\u001b[0m \u001b[0;34m=\u001b[0m \u001b[0mtdms_file\u001b[0m\u001b[0;34m.\u001b[0m\u001b[0mobject\u001b[0m\u001b[0;34m(\u001b[0m\u001b[0;34m'Untitled'\u001b[0m\u001b[0;34m,\u001b[0m \u001b[0;34m'Voltage_1'\u001b[0m\u001b[0;34m)\u001b[0m\u001b[0;34m\u001b[0m\u001b[0m\n\u001b[1;32m      8\u001b[0m \u001b[0mdata\u001b[0m \u001b[0;34m=\u001b[0m \u001b[0mchannel\u001b[0m\u001b[0;34m.\u001b[0m\u001b[0mdata\u001b[0m\u001b[0;34m\u001b[0m\u001b[0m\n",
      "\u001b[0;32m/Applications/anaconda/envs/python3/lib/python3.5/site-packages/nptdms/tdms.py\u001b[0m in \u001b[0;36m__init__\u001b[0;34m(self, file, memmap_dir)\u001b[0m\n\u001b[1;32m    167\u001b[0m             \u001b[0;31m# Is path to a file\u001b[0m\u001b[0;34m\u001b[0m\u001b[0;34m\u001b[0m\u001b[0m\n\u001b[1;32m    168\u001b[0m             \u001b[0;32mwith\u001b[0m \u001b[0mopen\u001b[0m\u001b[0;34m(\u001b[0m\u001b[0mfile\u001b[0m\u001b[0;34m,\u001b[0m \u001b[0;34m'rb'\u001b[0m\u001b[0;34m)\u001b[0m \u001b[0;32mas\u001b[0m \u001b[0mtdms_file\u001b[0m\u001b[0;34m:\u001b[0m\u001b[0;34m\u001b[0m\u001b[0m\n\u001b[0;32m--> 169\u001b[0;31m                 \u001b[0mself\u001b[0m\u001b[0;34m.\u001b[0m\u001b[0m_read_segments\u001b[0m\u001b[0;34m(\u001b[0m\u001b[0mtdms_file\u001b[0m\u001b[0;34m)\u001b[0m\u001b[0;34m\u001b[0m\u001b[0m\n\u001b[0m\u001b[1;32m    170\u001b[0m \u001b[0;34m\u001b[0m\u001b[0m\n\u001b[1;32m    171\u001b[0m     \u001b[0;32mdef\u001b[0m \u001b[0m_read_segments\u001b[0m\u001b[0;34m(\u001b[0m\u001b[0mself\u001b[0m\u001b[0;34m,\u001b[0m \u001b[0mtdms_file\u001b[0m\u001b[0;34m)\u001b[0m\u001b[0;34m:\u001b[0m\u001b[0;34m\u001b[0m\u001b[0m\n",
      "\u001b[0;32m/Applications/anaconda/envs/python3/lib/python3.5/site-packages/nptdms/tdms.py\u001b[0m in \u001b[0;36m_read_segments\u001b[0;34m(self, tdms_file)\u001b[0m\n\u001b[1;32m    197\u001b[0m             \u001b[0;31m# Now actually read all the data\u001b[0m\u001b[0;34m\u001b[0m\u001b[0;34m\u001b[0m\u001b[0m\n\u001b[1;32m    198\u001b[0m             \u001b[0;32mfor\u001b[0m \u001b[0msegment\u001b[0m \u001b[0;32min\u001b[0m \u001b[0mself\u001b[0m\u001b[0;34m.\u001b[0m\u001b[0msegments\u001b[0m\u001b[0;34m:\u001b[0m\u001b[0;34m\u001b[0m\u001b[0m\n\u001b[0;32m--> 199\u001b[0;31m                 \u001b[0msegment\u001b[0m\u001b[0;34m.\u001b[0m\u001b[0mread_raw_data\u001b[0m\u001b[0;34m(\u001b[0m\u001b[0mtdms_file\u001b[0m\u001b[0;34m)\u001b[0m\u001b[0;34m\u001b[0m\u001b[0m\n\u001b[0m\u001b[1;32m    200\u001b[0m \u001b[0;34m\u001b[0m\u001b[0m\n\u001b[1;32m    201\u001b[0m     \u001b[0;32mdef\u001b[0m \u001b[0m_path\u001b[0m\u001b[0;34m(\u001b[0m\u001b[0mself\u001b[0m\u001b[0;34m,\u001b[0m \u001b[0;34m*\u001b[0m\u001b[0margs\u001b[0m\u001b[0;34m)\u001b[0m\u001b[0;34m:\u001b[0m\u001b[0;34m\u001b[0m\u001b[0m\n",
      "\u001b[0;32m/Applications/anaconda/envs/python3/lib/python3.5/site-packages/nptdms/tdms.py\u001b[0m in \u001b[0;36mread_raw_data\u001b[0;34m(self, f)\u001b[0m\n\u001b[1;32m    535\u001b[0m                             \u001b[0mnumber_values\u001b[0m \u001b[0;34m=\u001b[0m \u001b[0mobj\u001b[0m\u001b[0;34m.\u001b[0m\u001b[0mnumber_values\u001b[0m\u001b[0;34m\u001b[0m\u001b[0m\n\u001b[1;32m    536\u001b[0m                         object_data[obj.path] = (\n\u001b[0;32m--> 537\u001b[0;31m                             obj._read_values(f, endianness, number_values))\n\u001b[0m\u001b[1;32m    538\u001b[0m \u001b[0;34m\u001b[0m\u001b[0m\n\u001b[1;32m    539\u001b[0m                 \u001b[0;32mfor\u001b[0m \u001b[0mobj\u001b[0m \u001b[0;32min\u001b[0m \u001b[0mself\u001b[0m\u001b[0;34m.\u001b[0m\u001b[0mordered_objects\u001b[0m\u001b[0;34m:\u001b[0m\u001b[0;34m\u001b[0m\u001b[0m\n",
      "\u001b[0;32m/Applications/anaconda/envs/python3/lib/python3.5/site-packages/nptdms/tdms.py\u001b[0m in \u001b[0;36m_read_values\u001b[0;34m(self, file, endianness, number_values)\u001b[0m\n\u001b[1;32m    891\u001b[0m         \u001b[0mdata\u001b[0m \u001b[0;34m=\u001b[0m \u001b[0mself\u001b[0m\u001b[0;34m.\u001b[0m\u001b[0m_new_segment_data\u001b[0m\u001b[0;34m(\u001b[0m\u001b[0;34m)\u001b[0m\u001b[0;34m\u001b[0m\u001b[0m\n\u001b[1;32m    892\u001b[0m         \u001b[0;32mfor\u001b[0m \u001b[0mi\u001b[0m \u001b[0;32min\u001b[0m \u001b[0mrange\u001b[0m\u001b[0;34m(\u001b[0m\u001b[0mnumber_values\u001b[0m\u001b[0;34m)\u001b[0m\u001b[0;34m:\u001b[0m\u001b[0;34m\u001b[0m\u001b[0m\n\u001b[0;32m--> 893\u001b[0;31m             \u001b[0mdata\u001b[0m\u001b[0;34m[\u001b[0m\u001b[0mi\u001b[0m\u001b[0;34m]\u001b[0m \u001b[0;34m=\u001b[0m \u001b[0mread_type\u001b[0m\u001b[0;34m(\u001b[0m\u001b[0mfile\u001b[0m\u001b[0;34m,\u001b[0m \u001b[0mself\u001b[0m\u001b[0;34m.\u001b[0m\u001b[0mdata_type\u001b[0m\u001b[0;34m,\u001b[0m \u001b[0mendianness\u001b[0m\u001b[0;34m)\u001b[0m\u001b[0;34m\u001b[0m\u001b[0m\n\u001b[0m\u001b[1;32m    894\u001b[0m         \u001b[0;32mreturn\u001b[0m \u001b[0mdata\u001b[0m\u001b[0;34m\u001b[0m\u001b[0m\n\u001b[1;32m    895\u001b[0m \u001b[0;34m\u001b[0m\u001b[0m\n",
      "\u001b[0;32m/Applications/anaconda/envs/python3/lib/python3.5/site-packages/nptdms/tdms.py\u001b[0m in \u001b[0;36mread_type\u001b[0;34m(file, data_type, endianness)\u001b[0m\n\u001b[1;32m    125\u001b[0m         \u001b[0ms\u001b[0m \u001b[0;34m=\u001b[0m \u001b[0mfile\u001b[0m\u001b[0;34m.\u001b[0m\u001b[0mread\u001b[0m\u001b[0;34m(\u001b[0m\u001b[0mdata_type\u001b[0m\u001b[0;34m.\u001b[0m\u001b[0mlength\u001b[0m\u001b[0;34m)\u001b[0m\u001b[0;34m\u001b[0m\u001b[0m\n\u001b[1;32m    126\u001b[0m         \u001b[0;34m(\u001b[0m\u001b[0ms_frac\u001b[0m\u001b[0;34m,\u001b[0m \u001b[0ms\u001b[0m\u001b[0;34m)\u001b[0m \u001b[0;34m=\u001b[0m \u001b[0mstruct\u001b[0m\u001b[0;34m.\u001b[0m\u001b[0munpack\u001b[0m\u001b[0;34m(\u001b[0m\u001b[0;34m'%s%s'\u001b[0m \u001b[0;34m%\u001b[0m \u001b[0;34m(\u001b[0m\u001b[0mendianness\u001b[0m\u001b[0;34m,\u001b[0m \u001b[0mdata_type\u001b[0m\u001b[0;34m.\u001b[0m\u001b[0mstruct\u001b[0m\u001b[0;34m)\u001b[0m\u001b[0;34m,\u001b[0m \u001b[0ms\u001b[0m\u001b[0;34m)\u001b[0m\u001b[0;34m\u001b[0m\u001b[0m\n\u001b[0;32m--> 127\u001b[0;31m         \u001b[0mtdms_start\u001b[0m \u001b[0;34m=\u001b[0m \u001b[0mdatetime\u001b[0m\u001b[0;34m(\u001b[0m\u001b[0;36m1904\u001b[0m\u001b[0;34m,\u001b[0m \u001b[0;36m1\u001b[0m\u001b[0;34m,\u001b[0m \u001b[0;36m1\u001b[0m\u001b[0;34m,\u001b[0m \u001b[0;36m0\u001b[0m\u001b[0;34m,\u001b[0m \u001b[0;36m0\u001b[0m\u001b[0;34m,\u001b[0m \u001b[0;36m0\u001b[0m\u001b[0;34m,\u001b[0m \u001b[0mtzinfo\u001b[0m\u001b[0;34m=\u001b[0m\u001b[0mtimezone\u001b[0m\u001b[0;34m)\u001b[0m\u001b[0;34m\u001b[0m\u001b[0m\n\u001b[0m\u001b[1;32m    128\u001b[0m         \u001b[0mms\u001b[0m \u001b[0;34m=\u001b[0m \u001b[0mfloat\u001b[0m\u001b[0;34m(\u001b[0m\u001b[0ms_frac\u001b[0m\u001b[0;34m)\u001b[0m \u001b[0;34m*\u001b[0m \u001b[0;36m5\u001b[0m \u001b[0;34m**\u001b[0m \u001b[0;36m6\u001b[0m \u001b[0;34m/\u001b[0m \u001b[0;36m2\u001b[0m \u001b[0;34m**\u001b[0m \u001b[0;36m58\u001b[0m\u001b[0;34m\u001b[0m\u001b[0m\n\u001b[1;32m    129\u001b[0m         \u001b[0;31m# Adding timedelta with seconds ignores leap\u001b[0m\u001b[0;34m\u001b[0m\u001b[0;34m\u001b[0m\u001b[0m\n",
      "\u001b[0;31mKeyboardInterrupt\u001b[0m: "
     ]
    }
   ],
   "source": [
    "#This cell imports data from a TDMS file using the nptdms function and reads different channel data\n",
    "from __future__ import print_function\n",
    "from nptdms import TdmsFile\n",
    "from matplotlib import pyplot as plt\n",
    "#from nptdms import tdmsinfo\n",
    "tdms_file = TdmsFile(\"/Users/Nush/Documents/Decision making task/AF_DMc/Photometry/AF039-37_DAY6bb_photometry_AF_DMc_21122016.csv\")\n",
    "channel = tdms_file.object('Untitled', 'Voltage_1')\n",
    "data = channel.data\n",
    "time = channel.time_track(\"Time (Voltage_1)\")\n",
    "plt.plot(data[0:1000]) "
   ]
  },
  {
   "cell_type": "code",
   "execution_count": null,
   "metadata": {
    "collapsed": false
   },
   "outputs": [],
   "source": [
    "#To test the parse_file function this cell reads one of these files and prints specific parts of the file and also all of its contents\n",
    "contents = parse_file('/Users/Nush/Documents/Decision making task/AF_DMc/MPC/AF039_DAY6_21122016_AF_DMc')#for i in results\n",
    "print (contents['Start Date'], contents['End Date'])\n",
    "print(contents['Subject'])\n",
    "print (contents)\n",
    "#print contents['Box']"
   ]
  },
  {
   "cell_type": "code",
   "execution_count": null,
   "metadata": {
    "collapsed": false
   },
   "outputs": [],
   "source": [
    "#The Medpc file consists of single lines of texts e.g. subject: subject name, single values eg. 26 and arrays (m, n, u,o) following a key letter. \n",
    "#This cell attempts to read the arrays, M, N, O and U and convert them to numpy arrays. This is taking from the single file above\n",
    "#The script then removes all the zero values that are inputed by the programme when no event occurs\n",
    "import numpy \n",
    "M_Event=[]\n",
    "N_Time=[]\n",
    "M_event = numpy.array(contents['M'])\n",
    "N_time = numpy.array(contents['N'])\n",
    "U_Event=[]\n",
    "O_Time=[]\n",
    "M_event = numpy.array(contents['M'])\n",
    "N_time = numpy.array(contents['N'])\n",
    "\n",
    "for x in M_event:\n",
    "    if x != 0:\n",
    "        M_Event.append (x)\n",
    "for y in N_time:\n",
    "    if y != 0:\n",
    "        N_Time.append (y)\n",
    "print(M_Event, N_Time)\n",
    "U_event = numpy.array(contents['U'])\n",
    "O_time = numpy.array(contents['O'])\n",
    "for z in U_event:\n",
    "    if z != 0:\n",
    "        U_Event.append (z)\n",
    "for w in O_time:\n",
    "    if w != 0:\n",
    "        O_Time.append (w)\n",
    "print(U_Event, O_Time)\n"
   ]
  },
  {
   "cell_type": "code",
   "execution_count": null,
   "metadata": {
    "collapsed": false
   },
   "outputs": [],
   "source": [
    "#This cell plots data from the arrays to check the task is working\n",
    "assert len(U_Event) == len(O_Time)#checks they are the same length\n",
    "for i in range (500,600):\n",
    "        #print (O_time[i], U_event[i])\n",
    "        plt.plot([O_time[i]], [U_event[i]],'ro')\n",
    "        plt.axis([17840, 17980, 0, 20])"
   ]
  },
  {
   "cell_type": "code",
   "execution_count": null,
   "metadata": {
    "collapsed": true
   },
   "outputs": [],
   "source": [
    "# Subsquent cells below aim to combine different file types into one directory to analyse together"
   ]
  },
  {
   "cell_type": "code",
   "execution_count": null,
   "metadata": {
    "collapsed": false
   },
   "outputs": [],
   "source": [
    "#Attempt 1: Concatenating the numpty arrays from the medpc file\n",
    "Medpc=[]\n",
    "Medpc=np.concatenate((M_Event,N_Time,U_Event,O_Time), axis=0)\n",
    "print(Medpc)\n"
   ]
  },
  {
   "cell_type": "code",
   "execution_count": null,
   "metadata": {
    "collapsed": false
   },
   "outputs": [],
   "source": [
    "#Attempt 2: This cell creates a dictionary called Medpc - in this directory I try to align the four arrays. The aim is to \n",
    "#search for an event in the array in 0 or 2 position\n",
    "#and print the corresponding time in the 1 and 3 arrays in the Medpc directory. I would also like to scan for an event\n",
    "#in the m array or u array and the look five seconds before and after for other events and their time stamps\n",
    "Medpc={}\n",
    "\n",
    "Medpc={'0':[M_Event],'1':[N_Time],'2':[U_Event],'3':[O_Time]}\n",
    "time_events = []\n",
    "for x in enumerate(Medpc['2']):\n",
    "    if x == 13:\n",
    "                time_events.append(x)\n",
    "print (time_events)\n",
    "\n",
    "    \n",
    "\n",
    "#print (Medpc['2'])\n",
    "events=[]\n",
    "events=(Medpc.get('0','none'))\n",
    "#print(events)"
   ]
  },
  {
   "cell_type": "code",
   "execution_count": null,
   "metadata": {
    "collapsed": false
   },
   "outputs": [],
   "source": [
    "#Attempt 3\n",
    "#Assign a function: it first convert arrays to numpy arrays, then strips all the zeros then puts it all in one dictionary\n",
    "def MEDPCData(analysis): \n",
    "    import numpy #library of science analysis tools\n",
    "    Medpc_data={}\n",
    "    M_Event=[]\n",
    "    N_Time=[]\n",
    "    M_event = numpy.array(contents['M'])\n",
    "    N_time = numpy.array(contents['N'])\n",
    "    U_Event=[]\n",
    "    O_Time=[]\n",
    "    M_event = numpy.array(contents['M'])\n",
    "    N_time = numpy.array(contents['N'])\n",
    "\n",
    "    for x in M_event:\n",
    "        if x != 0:\n",
    "            M_Event.append (x)\n",
    "    for y in N_time:\n",
    "        if y != 0:\n",
    "            N_Time.append (y)\n",
    "    print(M_Event, N_Time)\n",
    "    U_event = numpy.array(contents['U'])\n",
    "    O_time = numpy.array(contents['O'])\n",
    "    for z in U_event:\n",
    "        if z != 0:\n",
    "            U_Event.append (z)\n",
    "    for w in O_time:\n",
    "        if w != 0:\n",
    "            O_Time.append (w)\n",
    "    print(U_Event, O_Time)\n",
    "    Medpc={}\n",
    "    Medpc={'0':[M_Event],'1':[N_Time],'2':[U_Event],'3':[O_Time]}\n",
    "    \n",
    "    return Medpc"
   ]
  },
  {
   "cell_type": "code",
   "execution_count": null,
   "metadata": {
    "collapsed": true
   },
   "outputs": [],
   "source": []
  }
 ],
 "metadata": {
  "anaconda-cloud": {},
  "kernelspec": {
   "display_name": "Python [conda env:python3]",
   "language": "python",
   "name": "conda-env-python3-py"
  },
  "language_info": {
   "codemirror_mode": {
    "name": "ipython",
    "version": 3
   },
   "file_extension": ".py",
   "mimetype": "text/x-python",
   "name": "python",
   "nbconvert_exporter": "python",
   "pygments_lexer": "ipython3",
   "version": "3.5.2"
  }
 },
 "nbformat": 4,
 "nbformat_minor": 0
}
